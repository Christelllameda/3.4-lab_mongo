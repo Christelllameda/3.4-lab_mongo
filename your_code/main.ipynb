{
 "cells": [
  {
   "cell_type": "markdown",
   "metadata": {},
   "source": [
    "# Advanced Querying Mongo"
   ]
  },
  {
   "cell_type": "markdown",
   "metadata": {},
   "source": [
    "Importing libraries and setting up connection"
   ]
  },
  {
   "cell_type": "code",
   "execution_count": 1,
   "metadata": {},
   "outputs": [
    {
     "name": "stdout",
     "output_type": "stream",
     "text": [
      "Requirement already satisfied: pymongo in /Users/christelllameda/anaconda3/lib/python3.11/site-packages (4.5.0)\n",
      "Requirement already satisfied: dnspython<3.0.0,>=1.16.0 in /Users/christelllameda/anaconda3/lib/python3.11/site-packages (from pymongo) (2.4.2)\n",
      "Note: you may need to restart the kernel to use updated packages.\n"
     ]
    }
   ],
   "source": [
    "%pip install pymongo\n",
    "\n",
    "from pymongo import MongoClient\n",
    "cursor=MongoClient()   \n",
    "cursor\n",
    "\n",
    "str_conn='mongodb://localhost:27017' \n",
    "\n",
    "cursor=MongoClient(str_conn)"
   ]
  },
  {
   "cell_type": "code",
   "execution_count": 2,
   "metadata": {},
   "outputs": [],
   "source": [
    "#cursor.list_database_names()"
   ]
  },
  {
   "cell_type": "code",
   "execution_count": 3,
   "metadata": {},
   "outputs": [],
   "source": [
    "db=cursor.companies\n",
    "\n",
    "collection=db.collection"
   ]
  },
  {
   "cell_type": "markdown",
   "metadata": {},
   "source": [
    "### 1. All the companies whose name match 'Babelgum'. Retrieve only their `name` field."
   ]
  },
  {
   "cell_type": "code",
   "execution_count": 4,
   "metadata": {},
   "outputs": [
    {
     "data": {
      "text/plain": [
       "[{'name': 'Babelgum'}]"
      ]
     },
     "execution_count": 4,
     "metadata": {},
     "output_type": "execute_result"
    }
   ],
   "source": [
    "query = {'name': 'Babelgum'}\n",
    "select = {'_id': 0, 'name': 1}\n",
    "res = list(collection.find(query,select))\n",
    "res"
   ]
  },
  {
   "cell_type": "markdown",
   "metadata": {},
   "source": [
    "### 2. All the companies that have more than 5000 employees. Limit the search to 20 companies and sort them by **number of employees**."
   ]
  },
  {
   "cell_type": "code",
   "execution_count": 5,
   "metadata": {},
   "outputs": [
    {
     "data": {
      "text/plain": [
       "[{'name': 'Siemens', 'number_of_employees': 405000},\n",
       " {'name': 'IBM', 'number_of_employees': 388000},\n",
       " {'name': 'Toyota', 'number_of_employees': 320000},\n",
       " {'name': 'PayPal', 'number_of_employees': 300000},\n",
       " {'name': 'Nippon Telegraph and Telephone Corporation',\n",
       "  'number_of_employees': 227000},\n",
       " {'name': 'Samsung Electronics', 'number_of_employees': 221726},\n",
       " {'name': 'Accenture', 'number_of_employees': 205000},\n",
       " {'name': 'Tata Consultancy Services', 'number_of_employees': 200300},\n",
       " {'name': 'Flextronics International', 'number_of_employees': 200000},\n",
       " {'name': 'Safeway', 'number_of_employees': 186000},\n",
       " {'name': 'Sony', 'number_of_employees': 180500},\n",
       " {'name': 'LG', 'number_of_employees': 177000},\n",
       " {'name': 'Ford', 'number_of_employees': 171000},\n",
       " {'name': 'Boeing', 'number_of_employees': 160000},\n",
       " {'name': 'Digital Equipment Corporation', 'number_of_employees': 140000},\n",
       " {'name': 'Nokia', 'number_of_employees': 125000},\n",
       " {'name': 'MItsubishi Electric', 'number_of_employees': 107000},\n",
       " {'name': 'MItsubishi Electric', 'number_of_employees': 107000},\n",
       " {'name': 'Bertelsmann', 'number_of_employees': 100000},\n",
       " {'name': 'Comcast', 'number_of_employees': 100000}]"
      ]
     },
     "execution_count": 5,
     "metadata": {},
     "output_type": "execute_result"
    }
   ],
   "source": [
    "query = {'number_of_employees': {'$gte': 5000}}\n",
    "select = {'_id': 0, 'name': 1, 'number_of_employees':1}\n",
    "list(collection.find(query, select).sort(\"number_of_employees\", -1).limit(20))"
   ]
  },
  {
   "cell_type": "markdown",
   "metadata": {},
   "source": [
    "### 3. All the companies founded between 2000 and 2005, both years included. Retrieve only the `name` and `founded_year` fields."
   ]
  },
  {
   "cell_type": "code",
   "execution_count": 6,
   "metadata": {},
   "outputs": [
    {
     "data": {
      "text/plain": [
       "[{'name': 'Wetpaint', 'founded_year': 2005},\n",
       " {'name': 'Zoho', 'founded_year': 2005},\n",
       " {'name': 'Digg', 'founded_year': 2004},\n",
       " {'name': 'Facebook', 'founded_year': 2004},\n",
       " {'name': 'Omnidrive', 'founded_year': 2005},\n",
       " {'name': 'StumbleUpon', 'founded_year': 2002},\n",
       " {'name': 'Gizmoz', 'founded_year': 2003},\n",
       " {'name': 'Helio', 'founded_year': 2005},\n",
       " {'name': 'Plaxo', 'founded_year': 2002},\n",
       " {'name': 'Technorati', 'founded_year': 2002}]"
      ]
     },
     "execution_count": 6,
     "metadata": {},
     "output_type": "execute_result"
    }
   ],
   "source": [
    "query = {'$and': [{'founded_year': {'$gte': 2000}},\n",
    "                {'founded_year': {'$lte': 2005}}]}\n",
    "select = {'_id': 0, 'name': 1, 'founded_year':1}\n",
    "list(collection.find(query, select).limit(10))"
   ]
  },
  {
   "cell_type": "markdown",
   "metadata": {},
   "source": [
    "### 4. All the companies that had a Valuation Amount of more than 100.000.000 and have been founded before 2010. Retrieve only the `name` and `ipo` fields."
   ]
  },
  {
   "cell_type": "code",
   "execution_count": 7,
   "metadata": {},
   "outputs": [
    {
     "data": {
      "text/plain": [
       "[{'name': 'Facebook', 'ipo': {'valuation_amount': 104000000000.0}},\n",
       " {'name': 'Twitter', 'ipo': {'valuation_amount': 18100000000.0}},\n",
       " {'name': 'Yelp', 'ipo': {'valuation_amount': 1300000000}},\n",
       " {'name': 'LinkedIn', 'ipo': {'valuation_amount': 9310000000.0}},\n",
       " {'name': 'Amazon', 'ipo': {'valuation_amount': 100000000000.0}},\n",
       " {'name': 'Nielsen', 'ipo': {'valuation_amount': 1600000000}},\n",
       " {'name': 'OpenTable', 'ipo': {'valuation_amount': 1050000000}},\n",
       " {'name': 'Zillow', 'ipo': {'valuation_amount': 2550000000.0}},\n",
       " {'name': 'TripAdvisor', 'ipo': {'valuation_amount': 3273770000.0}},\n",
       " {'name': 'HomeAway', 'ipo': {'valuation_amount': 3000000000.0}}]"
      ]
     },
     "execution_count": 7,
     "metadata": {},
     "output_type": "execute_result"
    }
   ],
   "source": [
    "query = {'$and': [{'founded_year': {'$lt': 2010}},\n",
    "                {'ipo.valuation_amount': {'$gt': 1000000000}}]}\n",
    "select = {'_id': 0, 'name': 1, 'ipo.valuation_amount':1}\n",
    "list(collection.find(query, select).limit(10))"
   ]
  },
  {
   "cell_type": "markdown",
   "metadata": {},
   "source": [
    "### 5. All the companies that have less than 1000 employees and have been founded before 2005. Order them by the number of employees and limit the search to 10 companies."
   ]
  },
  {
   "cell_type": "code",
   "execution_count": 8,
   "metadata": {},
   "outputs": [
    {
     "data": {
      "text/plain": [
       "[{'name': 'Infinera Corporation', 'number_of_employees': 974},\n",
       " {'name': 'NorthPoint Communications Group', 'number_of_employees': 948},\n",
       " {'name': '888 Holdings', 'number_of_employees': 931},\n",
       " {'name': 'Forrester Research', 'number_of_employees': 903},\n",
       " {'name': 'Webmetrics', 'number_of_employees': 900},\n",
       " {'name': 'SonicWALL', 'number_of_employees': 900},\n",
       " {'name': 'Cornerstone OnDemand', 'number_of_employees': 881},\n",
       " {'name': 'Buongiorno', 'number_of_employees': 800},\n",
       " {'name': 'Cvent', 'number_of_employees': 800},\n",
       " {'name': 'ZoomInfo', 'number_of_employees': 800}]"
      ]
     },
     "execution_count": 8,
     "metadata": {},
     "output_type": "execute_result"
    }
   ],
   "source": [
    "query = {'$and': [{'founded_year': {'$lt': 2005}},\n",
    "                {'number_of_employees': {'$lt': 1000}}]}\n",
    "select = {'_id': 0, 'name': 1, 'number_of_employees':1}\n",
    "list(collection.find(query, select).sort(\"number_of_employees\", -1).limit(10))"
   ]
  },
  {
   "cell_type": "markdown",
   "metadata": {},
   "source": [
    "### 6. All the companies that don't include the `partners` field."
   ]
  },
  {
   "cell_type": "code",
   "execution_count": 9,
   "metadata": {},
   "outputs": [
    {
     "data": {
      "text/plain": [
       "[]"
      ]
     },
     "execution_count": 9,
     "metadata": {},
     "output_type": "execute_result"
    }
   ],
   "source": [
    "query = {'partners': {'$exists': False}}\n",
    "select = {'_id': 0, 'name': 1}\n",
    "list(collection.find(query, select).limit(10))"
   ]
  },
  {
   "cell_type": "markdown",
   "metadata": {},
   "source": [
    "### 7. All the companies that have a null type of value on the `category_code` field."
   ]
  },
  {
   "cell_type": "code",
   "execution_count": 10,
   "metadata": {},
   "outputs": [
    {
     "data": {
      "text/plain": [
       "[{'name': 'Collective'},\n",
       " {'name': 'Snimmer'},\n",
       " {'name': 'KoolIM'},\n",
       " {'name': 'Level9 Media'},\n",
       " {'name': 'VidKing'},\n",
       " {'name': 'Drigg'},\n",
       " {'name': 'SpaceTime'},\n",
       " {'name': 'Touch Clarity'},\n",
       " {'name': 'MMDAYS'},\n",
       " {'name': 'Inside Group'}]"
      ]
     },
     "execution_count": 10,
     "metadata": {},
     "output_type": "execute_result"
    }
   ],
   "source": [
    "query = {'category_code': None}\n",
    "select = {'_id': 0, 'name': 1}\n",
    "list(collection.find(query, select).limit(10))"
   ]
  },
  {
   "cell_type": "markdown",
   "metadata": {},
   "source": [
    "### 8. All the companies that have at least 100 employees but less than 1000. Retrieve only the `name` and `number of employees` fields."
   ]
  },
  {
   "cell_type": "code",
   "execution_count": 11,
   "metadata": {},
   "outputs": [
    {
     "data": {
      "text/plain": [
       "[{'name': 'AdventNet', 'number_of_employees': 600},\n",
       " {'name': 'AddThis', 'number_of_employees': 120},\n",
       " {'name': 'OpenX', 'number_of_employees': 305},\n",
       " {'name': 'LifeLock', 'number_of_employees': 644},\n",
       " {'name': 'Jajah', 'number_of_employees': 110},\n",
       " {'name': 'Livestream', 'number_of_employees': 120},\n",
       " {'name': 'Ustream', 'number_of_employees': 250},\n",
       " {'name': 'iContact', 'number_of_employees': 300},\n",
       " {'name': 'Yelp', 'number_of_employees': 800},\n",
       " {'name': 'Dailymotion', 'number_of_employees': 120}]"
      ]
     },
     "execution_count": 11,
     "metadata": {},
     "output_type": "execute_result"
    }
   ],
   "source": [
    "query = {'$and': [{'number_of_employees': {'$gte': 100}},\n",
    "                {'number_of_employees': {'$lte': 1000}}]}\n",
    "select = {'_id': 0, 'name': 1, 'number_of_employees':1}\n",
    "list(collection.find(query, select).limit(10))"
   ]
  },
  {
   "cell_type": "markdown",
   "metadata": {},
   "source": [
    "### 9. Order all the companies by their IPO price in a descending order."
   ]
  },
  {
   "cell_type": "code",
   "execution_count": 26,
   "metadata": {},
   "outputs": [
    {
     "data": {
      "text/plain": [
       "[{'name': 'Omnidrive'},\n",
       " {'name': 'Fox Interactive Media'},\n",
       " {'name': 'Zoho'},\n",
       " {'name': 'Postini'},\n",
       " {'name': 'Flektor'},\n",
       " {'name': 'Facebook', 'ipo': {}},\n",
       " {'name': 'Wetpaint'},\n",
       " {'name': 'AdventNet'},\n",
       " {'name': 'Digg'},\n",
       " {'name': 'Geni'}]"
      ]
     },
     "execution_count": 26,
     "metadata": {},
     "output_type": "execute_result"
    }
   ],
   "source": [
    "query = {}\n",
    "select = {'_id': 0, 'name': 1, 'ipo.price':1}\n",
    "list(collection.find(query, select).sort('ipo.price',1).limit(10))"
   ]
  },
  {
   "cell_type": "markdown",
   "metadata": {},
   "source": [
    "### 10. Retrieve the 10 companies with more employees, order by the `number of employees`"
   ]
  },
  {
   "cell_type": "code",
   "execution_count": 27,
   "metadata": {},
   "outputs": [
    {
     "data": {
      "text/plain": [
       "[{'name': 'Siemens', 'number_of_employees': 405000},\n",
       " {'name': 'IBM', 'number_of_employees': 388000},\n",
       " {'name': 'Toyota', 'number_of_employees': 320000},\n",
       " {'name': 'PayPal', 'number_of_employees': 300000},\n",
       " {'name': 'Nippon Telegraph and Telephone Corporation',\n",
       "  'number_of_employees': 227000},\n",
       " {'name': 'Samsung Electronics', 'number_of_employees': 221726},\n",
       " {'name': 'Accenture', 'number_of_employees': 205000},\n",
       " {'name': 'Tata Consultancy Services', 'number_of_employees': 200300},\n",
       " {'name': 'Flextronics International', 'number_of_employees': 200000},\n",
       " {'name': 'Safeway', 'number_of_employees': 186000}]"
      ]
     },
     "execution_count": 27,
     "metadata": {},
     "output_type": "execute_result"
    }
   ],
   "source": [
    "query = {}\n",
    "select = {'_id': 0, 'name': 1, 'number_of_employees':1}\n",
    "list(collection.find(query, select).sort('number_of_employees',-1).limit(10))"
   ]
  },
  {
   "cell_type": "markdown",
   "metadata": {},
   "source": [
    "### 11. All the companies founded on the second semester of the year. Limit your search to 1000 companies."
   ]
  },
  {
   "cell_type": "code",
   "execution_count": 30,
   "metadata": {},
   "outputs": [
    {
     "data": {
      "text/plain": [
       "[{'name': 'Wetpaint', 'founded_month': 10},\n",
       " {'name': 'Zoho', 'founded_month': 9},\n",
       " {'name': 'Digg', 'founded_month': 10},\n",
       " {'name': 'Omnidrive', 'founded_month': 11},\n",
       " {'name': 'Postini', 'founded_month': 6},\n",
       " {'name': 'Geni', 'founded_month': 6},\n",
       " {'name': 'Fox Interactive Media', 'founded_month': 6},\n",
       " {'name': 'eBay', 'founded_month': 9},\n",
       " {'name': 'Joost', 'founded_month': 10},\n",
       " {'name': 'Plaxo', 'founded_month': 11}]"
      ]
     },
     "execution_count": 30,
     "metadata": {},
     "output_type": "execute_result"
    }
   ],
   "source": [
    "query = {'founded_month': {'$gte': 6}}\n",
    "select = {'_id': 0, 'name': 1, 'founded_month':1}\n",
    "list(collection.find(query, select).limit(10))"
   ]
  },
  {
   "cell_type": "markdown",
   "metadata": {},
   "source": [
    "### 12. All the companies founded before 2000 that have an acquisition amount of more than 10.000.00"
   ]
  },
  {
   "cell_type": "code",
   "execution_count": 33,
   "metadata": {},
   "outputs": [
    {
     "data": {
      "text/plain": [
       "[{'name': 'Postini', 'acquisition': {'price_amount': 625000000}},\n",
       " {'name': 'SideStep', 'acquisition': {'price_amount': 180000000}},\n",
       " {'name': 'Recipezaar', 'acquisition': {'price_amount': 25000000}},\n",
       " {'name': 'Cyworld', 'acquisition': {'price_amount': 7140000}},\n",
       " {'name': 'PayPal', 'acquisition': {'price_amount': 1500000000}},\n",
       " {'name': 'Snapfish', 'acquisition': {'price_amount': 300000000}},\n",
       " {'name': 'Neopets', 'acquisition': {'price_amount': 160000000}},\n",
       " {'name': 'Sun Microsystems', 'acquisition': {'price_amount': 7400000000.0}},\n",
       " {'name': 'Zappos', 'acquisition': {'price_amount': 1200000000}},\n",
       " {'name': 'Alibaba', 'acquisition': {'price_amount': 1000000000}}]"
      ]
     },
     "execution_count": 33,
     "metadata": {},
     "output_type": "execute_result"
    }
   ],
   "source": [
    "query = {'$and': [{'founded_year': {'$lt': 2000}},\n",
    "                {'acquisition.price_amount': {'$gte': 10000}}]}\n",
    "select = {'_id': 0, 'name': 1, 'acquisition.price_amount':1}\n",
    "list(collection.find(query, select).limit(10))"
   ]
  },
  {
   "cell_type": "markdown",
   "metadata": {},
   "source": [
    "### 13. All the companies that have been acquired after 2010, order by the acquisition amount, and retrieve only their `name` and `acquisition` field."
   ]
  },
  {
   "cell_type": "code",
   "execution_count": 36,
   "metadata": {},
   "outputs": [
    {
     "data": {
      "text/plain": [
       "[{'name': 'T-Mobile', 'acquisition': {'price_amount': 39000000000.0}},\n",
       " {'name': 'Goodrich Corporation',\n",
       "  'acquisition': {'price_amount': 18400000000.0}},\n",
       " {'name': 'LSI', 'acquisition': {'price_amount': 6600000000.0}},\n",
       " {'name': 'National Semiconductor',\n",
       "  'acquisition': {'price_amount': 6500000000.0}},\n",
       " {'name': 'Ariba', 'acquisition': {'price_amount': 4300000000.0}},\n",
       " {'name': 'NetLogic Microsystems',\n",
       "  'acquisition': {'price_amount': 3700000000.0}},\n",
       " {'name': 'SuccessFactors', 'acquisition': {'price_amount': 3400000000.0}},\n",
       " {'name': 'Qualcomm Atheros', 'acquisition': {'price_amount': 3100000000.0}},\n",
       " {'name': 'Global Crossing', 'acquisition': {'price_amount': 3000000000.0}},\n",
       " {'name': 'Global Crossing', 'acquisition': {'price_amount': 3000000000.0}}]"
      ]
     },
     "execution_count": 36,
     "metadata": {},
     "output_type": "execute_result"
    }
   ],
   "source": [
    "query = {'acquisition.acquired_year': {'$gt': 2010}}\n",
    "select = {'_id': 0, 'name': 1, 'acquisition.price_amount':1}\n",
    "list(collection.find(query, select).sort('acquisition.price_amount',-1).limit(10))"
   ]
  },
  {
   "cell_type": "markdown",
   "metadata": {},
   "source": [
    "### 14. Order the companies by their `founded year`, retrieving only their `name` and `founded year`."
   ]
  },
  {
   "cell_type": "code",
   "execution_count": 38,
   "metadata": {},
   "outputs": [
    {
     "data": {
      "text/plain": [
       "[{'name': 'Wamba', 'founded_year': 2013},\n",
       " {'name': 'Gimigo', 'founded_year': 2013},\n",
       " {'name': 'Clowdy', 'founded_year': 2013},\n",
       " {'name': 'Fluc', 'founded_year': 2013},\n",
       " {'name': 'Advaliant', 'founded_year': 2013},\n",
       " {'name': 'Pikk', 'founded_year': 2013},\n",
       " {'name': 'WhosCall', 'founded_year': 2013},\n",
       " {'name': 'SEOGroup', 'founded_year': 2013},\n",
       " {'name': 'iBazar', 'founded_year': 2013},\n",
       " {'name': 'Fixya', 'founded_year': 2013}]"
      ]
     },
     "execution_count": 38,
     "metadata": {},
     "output_type": "execute_result"
    }
   ],
   "source": [
    "query = {}\n",
    "select = {'_id': 0, 'name': 1, 'founded_year':1}\n",
    "list(collection.find(query, select).sort('founded_year',-1).limit(10))"
   ]
  },
  {
   "cell_type": "markdown",
   "metadata": {},
   "source": [
    "### 15. All the companies that have been founded on the first seven days of the month, including the seventh. Sort them by their `acquisition price` in a descending order. Limit the search to 10 documents."
   ]
  },
  {
   "cell_type": "code",
   "execution_count": 54,
   "metadata": {},
   "outputs": [
    {
     "data": {
      "text/plain": [
       "[{'name': 'Facebook', 'founded_day': 1},\n",
       " {'name': 'Joost', 'founded_day': 1, 'acquisition': {'price_amount': None}},\n",
       " {'name': 'Babelgum', 'founded_day': 1},\n",
       " {'name': 'Gizmoz', 'founded_day': 1, 'acquisition': {'price_amount': None}},\n",
       " {'name': 'eBay', 'founded_day': 1},\n",
       " {'name': 'Technorati', 'founded_day': 1},\n",
       " {'name': 'Yahoo!', 'founded_day': 1},\n",
       " {'name': 'Fox Interactive Media', 'founded_day': 1},\n",
       " {'name': 'Omnidrive', 'founded_day': 1},\n",
       " {'name': 'Geni', 'founded_day': 1, 'acquisition': {'price_amount': None}}]"
      ]
     },
     "execution_count": 54,
     "metadata": {},
     "output_type": "execute_result"
    }
   ],
   "source": [
    "query = {'founded_day': {'$lte': 7}}\n",
    "select = {'_id': 0, 'name': 1, 'founded_day':1,'acquisition.price_amount':1}\n",
    "list(collection.find(query, select).sort('acquisition.price_amount',1).limit(10))"
   ]
  },
  {
   "cell_type": "markdown",
   "metadata": {},
   "source": [
    "### 16. All the companies on the 'web' `category` that have more than 4000 employees. Sort them by the amount of employees in ascending order."
   ]
  },
  {
   "cell_type": "code",
   "execution_count": 55,
   "metadata": {},
   "outputs": [
    {
     "data": {
      "text/plain": [
       "[{'name': 'ITP Publishing Group',\n",
       "  'category_code': 'web',\n",
       "  'number_of_employees': 437},\n",
       " {'name': 'GARA Web Hosting',\n",
       "  'category_code': 'web',\n",
       "  'number_of_employees': 480},\n",
       " {'name': 'Central Reservations',\n",
       "  'category_code': 'web',\n",
       "  'number_of_employees': 510},\n",
       " {'name': 'Leapfrog Enterprises',\n",
       "  'category_code': 'web',\n",
       "  'number_of_employees': 541},\n",
       " {'name': 'OpenTable', 'category_code': 'web', 'number_of_employees': 550},\n",
       " {'name': 'zanox', 'category_code': 'web', 'number_of_employees': 600},\n",
       " {'name': 'Consumers Union',\n",
       "  'category_code': 'web',\n",
       "  'number_of_employees': 600},\n",
       " {'name': 'MLB Advanced Media',\n",
       "  'category_code': 'web',\n",
       "  'number_of_employees': 600},\n",
       " {'name': 'Toluna', 'category_code': 'web', 'number_of_employees': 700},\n",
       " {'name': 'Citrix Online', 'category_code': 'web', 'number_of_employees': 700}]"
      ]
     },
     "execution_count": 55,
     "metadata": {},
     "output_type": "execute_result"
    }
   ],
   "source": [
    "query = {'$and': [{'category_code': 'web'},\n",
    "                {'number_of_employees': {'$gt': 400}}]}\n",
    "select = {'_id': 0, 'name': 1, 'category_code':1,'number_of_employees':1}\n",
    "list(collection.find(query, select).sort('number_of_employees',1).limit(10))"
   ]
  },
  {
   "cell_type": "markdown",
   "metadata": {},
   "source": [
    "### 17. All the companies whose acquisition amount is more than 10.000.000, and currency is 'EUR'."
   ]
  },
  {
   "cell_type": "code",
   "execution_count": 57,
   "metadata": {},
   "outputs": [
    {
     "data": {
      "text/plain": [
       "[{'name': 'ZYB', 'acquisition': {'price_amount': 31500000}},\n",
       " {'name': 'Apertio', 'acquisition': {'price_amount': 140000000}},\n",
       " {'name': 'Greenfield Online', 'acquisition': {'price_amount': 40000000}},\n",
       " {'name': 'Webedia', 'acquisition': {'price_amount': 70000000}},\n",
       " {'name': 'Wayfinder', 'acquisition': {'price_amount': 24000000}},\n",
       " {'name': 'Tuenti Technologies', 'acquisition': {'price_amount': 70000000}},\n",
       " {'name': 'BioMed Central', 'acquisition': {'price_amount': 43400000}}]"
      ]
     },
     "execution_count": 57,
     "metadata": {},
     "output_type": "execute_result"
    }
   ],
   "source": [
    "query = {'$and': [{'acquisition.price_currency_code': 'EUR'},\n",
    "                {'acquisition.price_amount': {'$gt': 10000000}}]}\n",
    "select = {'_id': 0, 'name': 1, 'acquisition.price_amount':1}\n",
    "list(collection.find(query, select).limit(10))"
   ]
  },
  {
   "cell_type": "markdown",
   "metadata": {},
   "source": [
    "### 18. All the companies that have been acquired on the first trimester of the year. Limit the search to 10 companies, and retrieve only their `name` and `acquisition` fields."
   ]
  },
  {
   "cell_type": "code",
   "execution_count": 58,
   "metadata": {},
   "outputs": [
    {
     "data": {
      "text/plain": [
       "[{'name': 'Kyte', 'acquisition': {'acquired_month': 1}},\n",
       " {'name': 'NetRatings', 'acquisition': {'acquired_month': 2}},\n",
       " {'name': 'blogTV', 'acquisition': {'acquired_month': 3}},\n",
       " {'name': 'Livestream', 'acquisition': {'acquired_month': 1}},\n",
       " {'name': 'iContact', 'acquisition': {'acquired_month': 2}},\n",
       " {'name': 'Coghead', 'acquisition': {'acquired_month': 2}},\n",
       " {'name': 'Dailymotion', 'acquisition': {'acquired_month': 2}},\n",
       " {'name': 'Netvibes', 'acquisition': {'acquired_month': 2}},\n",
       " {'name': 'Flickr', 'acquisition': {'acquired_month': 3}},\n",
       " {'name': 'BabyCenter', 'acquisition': {'acquired_month': 3}}]"
      ]
     },
     "execution_count": 58,
     "metadata": {},
     "output_type": "execute_result"
    }
   ],
   "source": [
    "query = {'acquisition.acquired_month': {'$lte': 3}}\n",
    "select = {'_id': 0, 'name': 1, 'acquisition.acquired_month':1}\n",
    "list(collection.find(query, select).limit(10))"
   ]
  },
  {
   "cell_type": "markdown",
   "metadata": {},
   "source": [
    "# Bonus\n",
    "### 19. All the companies that have been founded between 2000 and 2010, but have not been acquired before 2011."
   ]
  },
  {
   "cell_type": "code",
   "execution_count": 22,
   "metadata": {},
   "outputs": [],
   "source": [
    "# Your Code"
   ]
  },
  {
   "cell_type": "markdown",
   "metadata": {},
   "source": [
    "### 20. All the companies that have been 'deadpooled' after the third year."
   ]
  },
  {
   "cell_type": "code",
   "execution_count": 23,
   "metadata": {},
   "outputs": [],
   "source": [
    "# Your Code"
   ]
  }
 ],
 "metadata": {
  "kernelspec": {
   "display_name": "Python 3 (ipykernel)",
   "language": "python",
   "name": "python3"
  },
  "language_info": {
   "codemirror_mode": {
    "name": "ipython",
    "version": 3
   },
   "file_extension": ".py",
   "mimetype": "text/x-python",
   "name": "python",
   "nbconvert_exporter": "python",
   "pygments_lexer": "ipython3",
   "version": "3.11.4"
  }
 },
 "nbformat": 4,
 "nbformat_minor": 2
}
